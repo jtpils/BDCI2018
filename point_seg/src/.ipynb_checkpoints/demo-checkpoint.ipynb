{
 "cells": [
  {
   "cell_type": "code",
   "execution_count": 2,
   "metadata": {},
   "outputs": [],
   "source": [
    "from __future__ import absolute_import\n",
    "from __future__ import division\n",
    "from __future__ import print_function\n",
    "from datetime import datetime\n",
    "import os.path\n",
    "import sys\n",
    "import time\n",
    "import glob\n",
    "import numpy as np\n",
    "from six.moves import xrange\n",
    "import tensorflow as tf\n",
    "from PIL import Image\n",
    "\n",
    "from config import *\n",
    "from imdb import  kitti\n",
    "from utils.util import *\n",
    "from nets import  *"
   ]
  },
  {
   "cell_type": "code",
   "execution_count": 3,
   "metadata": {},
   "outputs": [],
   "source": [
    "FLAGS  =tf.app.flags.FLAGS\n",
    "tf.app.flags.DEFINE_string('checkpoint','./data/SqueezeSeq/model.ckpt-23000',\"\"\"Path to the model parameter file\"\"\")\n",
    "tf.app.flags.DEFINE_string('input_path','.data/sample',\"\"\".npy\"\"\")\n",
    "tf.app.flags.DEFINE_string('out_dir','./data/sample_out/',\"\"\"....\"\"\")\n",
    "tf.app.flags.DEFINE_string('gpu','0',\"\"\"gpu_id\"\"\")"
   ]
  },
  {
   "cell_type": "code",
   "execution_count": 4,
   "metadata": {},
   "outputs": [],
   "source": [
    "def _normalize(x):\n",
    "    return (x-x.min())/(x.max()-x.min())"
   ]
  },
  {
   "cell_type": "code",
   "execution_count": null,
   "metadata": {},
   "outputs": [],
   "source": [
    "def detect():\n",
    "    # detect Lidar data\n",
    "    os.environ['CUDA_VISIBLE_DEVICES'] = FLAGS.gpu\n",
    "    with tf.Graph().as_default():\n",
    "        mc = kitti_squeezeSeg_config()\n",
    "        mc.LOAD_PRETRAINED_MODEL = False\n",
    "        mc.BATCH_SIZE = 1\n",
    "        model = SqueezeSeg(mc)\n",
    "        saver = tf.train.Saver(model.model_params)\n",
    "        with tf.Session(config=tf.ConfigProto(allow_soft_placement=True)) as sess:\n",
    "            saver.restore(sess.FLAGS.checkpoint)\n",
    "            for f in glob.iglob(FLAGS.input_path):\n",
    "                lidar = np.load(f).astype(np.float32,copy = False)[:,:,:5]\n",
    "                lidar_mask = np.reshape((lidar[:,:,4]>0),\n",
    "                                       [mc.ZENITH_LEVEL,mc.AZIMUTH_LEVEL,1])\n",
    "                lidar =(lidar - mc.INPUT_MEAN)/mc.INPUT_STD\n",
    "                pred_cls = sess.run(\n",
    "                    model.pred_cls,\n",
    "                    feed_dict={\n",
    "                        model.lidar_input:[lidar]\n",
    "                        model.keep_prob:1.0\n",
    "                        model.lidar_mask:[lidar_mask]\n",
    "                    }\n",
    "                )\n",
    "                \n",
    "                \n",
    "                \n",
    "                file_name = f.strip('.npy').split('/')[-1]\n",
    "                np.save(os.path.join(FLAGS.out_dir,'pred_'+file_name+'.npy'),pred_cls[0])\n",
    "                \n",
    "                \n",
    "                #save plot \n",
    "                depth_map = Image.fromarray((255*_normalize(lidar[:,:,3])).astype(np.uint8))\n",
    "                label_map = Image.fromarray((255*visualize_seg(pred_cls,mc)[0]).astype(np.uint8))\n",
    "                \n",
    "                \n",
    "                blend_map = Image.blend(depth_map.convert('RGBA'),label_map.convert('RGBA'),alpha =0.4)\n",
    "                \n",
    "                blend_map.save(os.path.join(FLAGS.out_dir,'plot_'+file_name+'.png'))\n",
    "                \n",
    "def main(argv=None):\n",
    "    if not tf.gfile.Exists(FLAGS.out_dir):\n",
    "        tf.gfile.MakeDirs(FLAGS.out_dir)\n",
    "    detect()\n",
    "    print('detection outpuy written to {}'.format(FLAGS.out_dir))\n",
    "    \n",
    "    \n",
    "if __name__=='__main__':\n",
    "    tf.app.run()\n",
    "                \n",
    "                \n",
    "                \n",
    "                \n",
    "                "
   ]
  }
 ],
 "metadata": {
  "kernelspec": {
   "display_name": "Python 2",
   "language": "python",
   "name": "python2"
  },
  "language_info": {
   "codemirror_mode": {
    "name": "ipython",
    "version": 2
   },
   "file_extension": ".py",
   "mimetype": "text/x-python",
   "name": "python",
   "nbconvert_exporter": "python",
   "pygments_lexer": "ipython2",
   "version": "2.7.12"
  }
 },
 "nbformat": 4,
 "nbformat_minor": 2
}
