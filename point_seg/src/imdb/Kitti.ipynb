{
 "cells": [
  {
   "cell_type": "code",
   "execution_count": 6,
   "metadata": {},
   "outputs": [],
   "source": [
    "from data_pro import imdb\n",
    "import os\n",
    "import numpy as np\n",
    "import subprocess"
   ]
  },
  {
   "cell_type": "code",
   "execution_count": 9,
   "metadata": {},
   "outputs": [],
   "source": [
    "class kitti(imdb):\n",
    "    def __init__(self,image_set,data_path,mc):\n",
    "        imdb.__init__(self,'kitti_'+image_set,mc)\n",
    "        self._image_set = image_set\n",
    "        self._data_root_path = data_path\n",
    "        self._lidar_2d_path = os.path.join(self._data_root_path,'lidar_2d')\n",
    "        self._gta_2d_path = os.path.join(self._data_root_path,'gta')\n",
    "        \n",
    "        #a list of string indices of images in the directoy\n",
    "        self._image_idx = self._load_image_set_idx()\n",
    "        # a dict of image_idx [[cx,cy,w,h,cls_idx]], x,y,w,h are not divided by the image width and height\n",
    "        \n",
    "        #batch reader\n",
    "        self._perm_idx = None\n",
    "        self._cur_idx = 0\n",
    "        self._shuffle_image_idx()\n",
    "        \n",
    "    def _load_image_set_idx(self):\n",
    "        image_set_file = os.path.join(self._data_root_path,'ImageSet',self._image_set+',txt')\n",
    "        assert os.path.exists(image_set_file),'File dose not exist:{}'.format(image_set_file)\n",
    "        \n",
    "        with open(image_set_file) as f:\n",
    "            image_Idx = [x.strip() for x in f.readlines()]\n",
    "        return image_Idx\n",
    "    def _lidar_2d_path_at(self,idx):\n",
    "        if idx[:4] == 'gta_':\n",
    "            lidar_2d_path = os.path.join(self._gta_2d_path,idx+'.npy')\n",
    "        else:\n",
    "            lidar_2d_path = os.path.join(self._lidar_2d_path,idx+'.npy')\n",
    "        assert os.path.exists(lidar_2d_path),'file does not .....'.formatmat(lidar_2d_path)\n",
    "        return lidar_2d_path\n",
    "        "
   ]
  },
  {
   "cell_type": "code",
   "execution_count": null,
   "metadata": {},
   "outputs": [],
   "source": []
  }
 ],
 "metadata": {
  "kernelspec": {
   "display_name": "Python 2",
   "language": "python",
   "name": "python2"
  },
  "language_info": {
   "codemirror_mode": {
    "name": "ipython",
    "version": 2
   },
   "file_extension": ".py",
   "mimetype": "text/x-python",
   "name": "python",
   "nbconvert_exporter": "python",
   "pygments_lexer": "ipython2",
   "version": "2.7.12"
  }
 },
 "nbformat": 4,
 "nbformat_minor": 2
}
